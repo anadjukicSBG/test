{
 "cells": [
  {
   "cell_type": "code",
   "execution_count": 2,
   "id": "78976798",
   "metadata": {},
   "outputs": [
    {
     "name": "stdout",
     "output_type": "stream",
     "text": [
      "Collecting pandas\n",
      "  Downloading pandas-1.4.0-cp39-cp39-manylinux_2_17_x86_64.manylinux2014_x86_64.whl (11.7 MB)\n",
      "\u001b[2K     \u001b[90m━━━━━━━━━━━━━━━━━━━━━━━━━━━━━━━━━━━━━━━━\u001b[0m \u001b[32m11.7/11.7 MB\u001b[0m \u001b[31m8.8 MB/s\u001b[0m eta \u001b[36m0:00:00\u001b[0m00:01\u001b[0m00:01\u001b[0m\n",
      "\u001b[?25hRequirement already satisfied: python-dateutil>=2.8.1 in /opt/conda/lib/python3.9/site-packages (from pandas) (2.8.2)\n",
      "Requirement already satisfied: numpy>=1.18.5 in /opt/conda/lib/python3.9/site-packages (from pandas) (1.22.1)\n",
      "Requirement already satisfied: pytz>=2020.1 in /opt/conda/lib/python3.9/site-packages (from pandas) (2021.3)\n",
      "Requirement already satisfied: six>=1.5 in /opt/conda/lib/python3.9/site-packages (from python-dateutil>=2.8.1->pandas) (1.16.0)\n",
      "Installing collected packages: pandas\n",
      "Successfully installed pandas-1.4.0\n"
     ]
    }
   ],
   "source": [
    "!pip install pandas"
   ]
  },
  {
   "cell_type": "code",
   "execution_count": 33,
   "id": "09fa582d",
   "metadata": {},
   "outputs": [
    {
     "name": "stdout",
     "output_type": "stream",
     "text": [
      "/opt/conda/lib/python3.9/site-packages/cdapython/__init__.py\n",
      "2022.1.24\n"
     ]
    }
   ],
   "source": [
    "from cdapython import Q, columns, unique_terms\n",
    "import cdapython\n",
    "import pandas as pd\n",
    "from collections import Counter\n",
    "print(cdapython.__file__)\n",
    "print(cdapython.__version__)"
   ]
  },
  {
   "cell_type": "code",
   "execution_count": 34,
   "id": "eda06597",
   "metadata": {
    "scrolled": false
   },
   "outputs": [
    {
     "name": "stdout",
     "output_type": "stream",
     "text": [
      "Getting results from database\n",
      "\n",
      "Total execution time: 12484 ms\n"
     ]
    }
   ],
   "source": [
    "q1 = Q('File.associated_project = \"TCGA-BRCA\"')\n",
    "q2 = Q('days_to_birth < -50*365')\n",
    "q3 = Q('identifier.system = \"IDC\"')\n",
    "\n",
    "q = q3.From(q1.And(q2))\n",
    "r = q.run(limit = 20)"
   ]
  },
  {
   "cell_type": "code",
   "execution_count": 35,
   "id": "863b7177",
   "metadata": {},
   "outputs": [
    {
     "data": {
      "text/plain": [
       "array(['GDC', 'IDC', 'PDC'], dtype=object)"
      ]
     },
     "execution_count": 35,
     "metadata": {},
     "output_type": "execute_result"
    }
   ],
   "source": [
    "pd.json_normalize(\n",
    "    r, \n",
    "    record_path =['File','identifier'],\n",
    "    meta=['species','sex','race','ethnicity'],\n",
    "    meta_prefix= 'subject_', \n",
    "    max_level = 1,\n",
    "    errors='ignore')['system'].unique()"
   ]
  },
  {
   "cell_type": "code",
   "execution_count": 36,
   "id": "6faa098c",
   "metadata": {},
   "outputs": [
    {
     "name": "stdout",
     "output_type": "stream",
     "text": [
      "Getting results from database\n",
      "\n",
      "Total execution time: 8334 ms\n"
     ]
    }
   ],
   "source": [
    "q1 = Q('File.associated_project = \"TCGA-BRCA\"')\n",
    "q2 = Q('days_to_birth < -50*365')\n",
    "q3 = Q('identifier.system = \"PDC\"')\n",
    "\n",
    "q = q3.From(q1.And(q2))\n",
    "r = q.run(limit = 20)"
   ]
  },
  {
   "cell_type": "code",
   "execution_count": 37,
   "id": "97f6cba3",
   "metadata": {},
   "outputs": [
    {
     "data": {
      "text/plain": [
       "array(['GDC', 'PDC'], dtype=object)"
      ]
     },
     "execution_count": 37,
     "metadata": {},
     "output_type": "execute_result"
    }
   ],
   "source": [
    "pd.json_normalize(\n",
    "    r, \n",
    "    record_path =['File','identifier'],\n",
    "    meta=['species','sex','race','ethnicity'],\n",
    "    meta_prefix= 'subject_', \n",
    "    max_level = 1,\n",
    "    errors='ignore')['system'].unique()"
   ]
  },
  {
   "cell_type": "code",
   "execution_count": 38,
   "id": "bddf1048",
   "metadata": {},
   "outputs": [
    {
     "name": "stdout",
     "output_type": "stream",
     "text": [
      "Getting results from database\n",
      "\n",
      "Total execution time: 5623 ms\n"
     ]
    }
   ],
   "source": [
    "q1 = Q('File.associated_project = \"TCGA-BRCA\"')\n",
    "q2 = Q('days_to_birth < -50*365')\n",
    "q3 = Q('identifier.system = \"GDC\"')\n",
    "\n",
    "q = q3.From(q1.And(q2))\n",
    "r = q.run(limit = 20)"
   ]
  },
  {
   "cell_type": "code",
   "execution_count": 39,
   "id": "83c1daa6",
   "metadata": {},
   "outputs": [
    {
     "data": {
      "text/plain": [
       "array(['GDC'], dtype=object)"
      ]
     },
     "execution_count": 39,
     "metadata": {},
     "output_type": "execute_result"
    }
   ],
   "source": [
    "pd.json_normalize(\n",
    "    r, \n",
    "    record_path =['File','identifier'],\n",
    "    meta=['species','sex','race','ethnicity'],\n",
    "    meta_prefix= 'subject_', \n",
    "    max_level = 1,\n",
    "    errors='ignore')['system'].unique()"
   ]
  },
  {
   "cell_type": "code",
   "execution_count": null,
   "id": "8472cbe3",
   "metadata": {},
   "outputs": [],
   "source": []
  }
 ],
 "metadata": {
  "kernelspec": {
   "display_name": "Python 3 (ipykernel)",
   "language": "python",
   "name": "python3"
  },
  "language_info": {
   "codemirror_mode": {
    "name": "ipython",
    "version": 3
   },
   "file_extension": ".py",
   "mimetype": "text/x-python",
   "name": "python",
   "nbconvert_exporter": "python",
   "pygments_lexer": "ipython3",
   "version": "3.9.7"
  }
 },
 "nbformat": 4,
 "nbformat_minor": 5
}
